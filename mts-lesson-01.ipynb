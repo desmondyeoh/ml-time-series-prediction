{
 "cells": [
  {
   "cell_type": "markdown",
   "metadata": {},
   "source": [
    "## Lesson 1: Promise of Deep Learning\n",
    "Advantages of neural networks:\n",
    "* Robust to noise\n",
    "* Nonlinear\n",
    "* Multivariate Inputs\n",
    "* Multi-step Forecast\n",
    "\n",
    "No coding for this lesson"
   ]
  }
 ],
 "metadata": {
  "kernelspec": {
   "display_name": "Python (myenv)",
   "language": "python",
   "name": "lab_env"
  },
  "language_info": {
   "codemirror_mode": {
    "name": "ipython",
    "version": 3
   },
   "file_extension": ".py",
   "mimetype": "text/x-python",
   "name": "python",
   "nbconvert_exporter": "python",
   "pygments_lexer": "ipython3",
   "version": "3.6.8"
  }
 },
 "nbformat": 4,
 "nbformat_minor": 2
}
