{
 "cells": [
  {
   "cell_type": "markdown",
   "metadata": {},
   "source": [
    "## Lesson 2: How to Transform Data for Time Series\n",
    "* Sliding Window transformation"
   ]
  },
  {
   "cell_type": "code",
   "execution_count": 77,
   "metadata": {},
   "outputs": [],
   "source": [
    "def sliding_window(li, step):\n",
    "    import numpy as np\n",
    "    idx = [(i, i+step) for i in range(0, len(li)-step)]\n",
    "    X = []\n",
    "    y = []\n",
    "    for i, j in idx:\n",
    "        X.append(li[i:j])\n",
    "        y.append(li[j])\n",
    "    return np.array(X), np.array(y)"
   ]
  },
  {
   "cell_type": "code",
   "execution_count": 79,
   "metadata": {},
   "outputs": [
    {
     "name": "stdout",
     "output_type": "stream",
     "text": [
      "[[35 32 30]\n",
      " [32 30 31]\n",
      " [30 31 44]\n",
      " [31 44 29]\n",
      " [44 29 45]\n",
      " [29 45 43]\n",
      " [45 43 38]\n",
      " [43 38 27]\n",
      " [38 27 38]\n",
      " [27 38 33]]\n",
      "[31 44 29 45 43 38 27 38 33 55]\n"
     ]
    }
   ],
   "source": [
    "import pandas as pd\n",
    "df = pd.read_csv('data/daily-total-female-births.csv')\n",
    "b = df.sort_values('Date')['Births'].values\n",
    "X, y = sliding_window(b, 3)\n",
    "print(X[:10])\n",
    "print(y[:10])"
   ]
  }
 ],
 "metadata": {
  "kernelspec": {
   "display_name": "Python (myenv)",
   "language": "python",
   "name": "lab_env"
  },
  "language_info": {
   "codemirror_mode": {
    "name": "ipython",
    "version": 3
   },
   "file_extension": ".py",
   "mimetype": "text/x-python",
   "name": "python",
   "nbconvert_exporter": "python",
   "pygments_lexer": "ipython3",
   "version": "3.6.8"
  }
 },
 "nbformat": 4,
 "nbformat_minor": 2
}
